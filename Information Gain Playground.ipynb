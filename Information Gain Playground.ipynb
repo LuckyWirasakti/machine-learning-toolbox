{
 "cells": [
  {
   "cell_type": "code",
   "execution_count": 1,
   "metadata": {},
   "outputs": [],
   "source": [
    "import pandas as pd\n",
    "import numpy as np"
   ]
  },
  {
   "cell_type": "code",
   "execution_count": 2,
   "metadata": {},
   "outputs": [
    {
     "data": {
      "text/plain": [
       "0     apple\n",
       "1     apple\n",
       "2     apple\n",
       "3    orange\n",
       "4    orange\n",
       "5    banana\n",
       "6    banana\n",
       "dtype: object"
      ]
     },
     "execution_count": 2,
     "metadata": {},
     "output_type": "execute_result"
    }
   ],
   "source": [
    "lists = ['apple']*3 + ['orange']*2 + ['banana']*2\n",
    "fruits = pd.Series(lists)\n",
    "fruits"
   ]
  },
  {
   "cell_type": "markdown",
   "metadata": {},
   "source": [
    "Berikut adalah frekuensi relatif setiap buah dalam keranjang, yang dapat dianggap sebagai distribusi probabilitas buah."
   ]
  },
  {
   "cell_type": "code",
   "execution_count": 3,
   "metadata": {},
   "outputs": [
    {
     "data": {
      "text/plain": [
       "apple     0.428571\n",
       "banana    0.285714\n",
       "orange    0.285714\n",
       "dtype: float64"
      ]
     },
     "execution_count": 3,
     "metadata": {},
     "output_type": "execute_result"
    }
   ],
   "source": [
    "probs = fruits.value_counts(normalize=True)\n",
    "probs"
   ]
  },
  {
   "cell_type": "markdown",
   "metadata": {},
   "source": [
    "Jika Anda suka, Anda dapat menentukan sendiri distribusi probabilitas seperti di bawah ini."
   ]
  },
  {
   "cell_type": "code",
   "execution_count": 4,
   "metadata": {},
   "outputs": [
    {
     "data": {
      "text/plain": [
       "(0.428571, 0.285714, 0.285714)"
      ]
     },
     "execution_count": 4,
     "metadata": {},
     "output_type": "execute_result"
    }
   ],
   "source": [
    "probs_by_hand = round(3/7, 6), round(2/7, 6), round(2/7, 6)\n",
    "probs_by_hand"
   ]
  },
  {
   "cell_type": "markdown",
   "metadata": {},
   "source": [
    "Ingatlah bahwa model Shannon mendefinisikan entropi sebagai\n",
    "\n",
    "\n",
    "\n",
    "Gagasan dengan entropi adalah bahwa semakin heterogen dan tidak murni suatu fitur, semakin tinggi entropi tersebut. Sebaliknya, semakin homogen dan murni suatu ciri, semakin rendah entropinya. Perhitungan berikut menunjukkan bagaimana pengotor sekeranjang buah ini dapat dihitung menggunakan kriteria entropi."
   ]
  },
  {
   "cell_type": "code",
   "execution_count": 5,
   "metadata": {},
   "outputs": [
    {
     "data": {
      "text/plain": [
       "1.5566567074628228"
      ]
     },
     "execution_count": 5,
     "metadata": {},
     "output_type": "execute_result"
    }
   ],
   "source": [
    "entropy = -1 * np.sum(np.log2(probs) * probs)\n",
    "entropy"
   ]
  },
  {
   "cell_type": "markdown",
   "metadata": {},
   "source": [
    "Sebagai perbandingan, mari kita hitung ketidakmurnian sekeranjang buah lain dengan 7 buah berbeda dengan frekuensi yang sama."
   ]
  },
  {
   "cell_type": "code",
   "execution_count": 6,
   "metadata": {},
   "outputs": [
    {
     "data": {
      "text/plain": [
       "0         apple\n",
       "1        orange\n",
       "2        banana\n",
       "3         mango\n",
       "4     blueberry\n",
       "5    watermelon\n",
       "6          pear\n",
       "dtype: object"
      ]
     },
     "execution_count": 6,
     "metadata": {},
     "output_type": "execute_result"
    }
   ],
   "source": [
    "lst2 = ['apple', 'orange', 'banana', 'mango', 'blueberry', 'watermelon', 'pear']\n",
    "fruits2 = pd.Series(lst2)\n",
    "fruits2"
   ]
  },
  {
   "cell_type": "code",
   "execution_count": 7,
   "metadata": {},
   "outputs": [
    {
     "data": {
      "text/plain": [
       "blueberry     0.142857\n",
       "apple         0.142857\n",
       "mango         0.142857\n",
       "orange        0.142857\n",
       "pear          0.142857\n",
       "banana        0.142857\n",
       "watermelon    0.142857\n",
       "dtype: float64"
      ]
     },
     "execution_count": 7,
     "metadata": {},
     "output_type": "execute_result"
    }
   ],
   "source": [
    "probs2 = fruits2.value_counts(normalize=True)\n",
    "probs2"
   ]
  },
  {
   "cell_type": "code",
   "execution_count": 8,
   "metadata": {},
   "outputs": [
    {
     "data": {
      "text/plain": [
       "2.807354922057604"
      ]
     },
     "execution_count": 8,
     "metadata": {},
     "output_type": "execute_result"
    }
   ],
   "source": [
    "entropy = -1 * np.sum(np.log2(probs2) * probs2)\n",
    "entropy"
   ]
  },
  {
   "cell_type": "markdown",
   "metadata": {},
   "source": [
    "## Play Tennis Example\n",
    "\n",
    "Kami sekarang mengerjakan detail kalkulasi ketidakmurnian untuk dataset vegetation. Mari pertama-tama impor dataset dari cloud."
   ]
  },
  {
   "cell_type": "code",
   "execution_count": 9,
   "metadata": {},
   "outputs": [
    {
     "data": {
      "text/html": [
       "<div>\n",
       "<style scoped>\n",
       "    .dataframe tbody tr th:only-of-type {\n",
       "        vertical-align: middle;\n",
       "    }\n",
       "\n",
       "    .dataframe tbody tr th {\n",
       "        vertical-align: top;\n",
       "    }\n",
       "\n",
       "    .dataframe thead th {\n",
       "        text-align: right;\n",
       "    }\n",
       "</style>\n",
       "<table border=\"1\" class=\"dataframe\">\n",
       "  <thead>\n",
       "    <tr style=\"text-align: right;\">\n",
       "      <th></th>\n",
       "      <th>outlook</th>\n",
       "      <th>temp</th>\n",
       "      <th>humidity</th>\n",
       "      <th>wind</th>\n",
       "      <th>play</th>\n",
       "    </tr>\n",
       "    <tr>\n",
       "      <th>day</th>\n",
       "      <th></th>\n",
       "      <th></th>\n",
       "      <th></th>\n",
       "      <th></th>\n",
       "      <th></th>\n",
       "    </tr>\n",
       "  </thead>\n",
       "  <tbody>\n",
       "    <tr>\n",
       "      <th>D1</th>\n",
       "      <td>Sunny</td>\n",
       "      <td>Hot</td>\n",
       "      <td>High</td>\n",
       "      <td>Weak</td>\n",
       "      <td>No</td>\n",
       "    </tr>\n",
       "    <tr>\n",
       "      <th>D2</th>\n",
       "      <td>Sunny</td>\n",
       "      <td>Hot</td>\n",
       "      <td>High</td>\n",
       "      <td>Strong</td>\n",
       "      <td>No</td>\n",
       "    </tr>\n",
       "    <tr>\n",
       "      <th>D3</th>\n",
       "      <td>Overcast</td>\n",
       "      <td>Hot</td>\n",
       "      <td>High</td>\n",
       "      <td>Weak</td>\n",
       "      <td>Yes</td>\n",
       "    </tr>\n",
       "    <tr>\n",
       "      <th>D4</th>\n",
       "      <td>Rain</td>\n",
       "      <td>Mild</td>\n",
       "      <td>High</td>\n",
       "      <td>Weak</td>\n",
       "      <td>Yes</td>\n",
       "    </tr>\n",
       "    <tr>\n",
       "      <th>D5</th>\n",
       "      <td>Rain</td>\n",
       "      <td>Cool</td>\n",
       "      <td>Normal</td>\n",
       "      <td>Weak</td>\n",
       "      <td>Yes</td>\n",
       "    </tr>\n",
       "    <tr>\n",
       "      <th>D6</th>\n",
       "      <td>Rain</td>\n",
       "      <td>Cool</td>\n",
       "      <td>Normal</td>\n",
       "      <td>Strong</td>\n",
       "      <td>No</td>\n",
       "    </tr>\n",
       "    <tr>\n",
       "      <th>D7</th>\n",
       "      <td>Overcast</td>\n",
       "      <td>Cool</td>\n",
       "      <td>Normal</td>\n",
       "      <td>Strong</td>\n",
       "      <td>Yes</td>\n",
       "    </tr>\n",
       "    <tr>\n",
       "      <th>D8</th>\n",
       "      <td>Sunny</td>\n",
       "      <td>Mild</td>\n",
       "      <td>High</td>\n",
       "      <td>Weak</td>\n",
       "      <td>No</td>\n",
       "    </tr>\n",
       "    <tr>\n",
       "      <th>D9</th>\n",
       "      <td>Sunny</td>\n",
       "      <td>Cool</td>\n",
       "      <td>Normal</td>\n",
       "      <td>Weak</td>\n",
       "      <td>Yes</td>\n",
       "    </tr>\n",
       "    <tr>\n",
       "      <th>D10</th>\n",
       "      <td>Rain</td>\n",
       "      <td>Mild</td>\n",
       "      <td>Normal</td>\n",
       "      <td>Weak</td>\n",
       "      <td>Yes</td>\n",
       "    </tr>\n",
       "    <tr>\n",
       "      <th>D11</th>\n",
       "      <td>Sunny</td>\n",
       "      <td>Mild</td>\n",
       "      <td>Normal</td>\n",
       "      <td>Strong</td>\n",
       "      <td>Yes</td>\n",
       "    </tr>\n",
       "    <tr>\n",
       "      <th>D12</th>\n",
       "      <td>Overcast</td>\n",
       "      <td>Mild</td>\n",
       "      <td>High</td>\n",
       "      <td>Strong</td>\n",
       "      <td>Yes</td>\n",
       "    </tr>\n",
       "    <tr>\n",
       "      <th>D13</th>\n",
       "      <td>Overcast</td>\n",
       "      <td>Hot</td>\n",
       "      <td>Normal</td>\n",
       "      <td>Weak</td>\n",
       "      <td>Yes</td>\n",
       "    </tr>\n",
       "    <tr>\n",
       "      <th>D14</th>\n",
       "      <td>Rain</td>\n",
       "      <td>Mild</td>\n",
       "      <td>High</td>\n",
       "      <td>Strong</td>\n",
       "      <td>No</td>\n",
       "    </tr>\n",
       "  </tbody>\n",
       "</table>\n",
       "</div>"
      ],
      "text/plain": [
       "      outlook  temp humidity    wind play\n",
       "day                                      \n",
       "D1      Sunny   Hot     High    Weak   No\n",
       "D2      Sunny   Hot     High  Strong   No\n",
       "D3   Overcast   Hot     High    Weak  Yes\n",
       "D4       Rain  Mild     High    Weak  Yes\n",
       "D5       Rain  Cool   Normal    Weak  Yes\n",
       "D6       Rain  Cool   Normal  Strong   No\n",
       "D7   Overcast  Cool   Normal  Strong  Yes\n",
       "D8      Sunny  Mild     High    Weak   No\n",
       "D9      Sunny  Cool   Normal    Weak  Yes\n",
       "D10      Rain  Mild   Normal    Weak  Yes\n",
       "D11     Sunny  Mild   Normal  Strong  Yes\n",
       "D12  Overcast  Mild     High  Strong  Yes\n",
       "D13  Overcast   Hot   Normal    Weak  Yes\n",
       "D14      Rain  Mild     High  Strong   No"
      ]
     },
     "execution_count": 9,
     "metadata": {},
     "output_type": "execute_result"
    }
   ],
   "source": [
    "df = pd.read_csv(\"dataset/play_tennis.csv\", index_col=['day'])\n",
    "df"
   ]
  },
  {
   "cell_type": "code",
   "execution_count": 10,
   "metadata": {},
   "outputs": [
    {
     "name": "stdout",
     "output_type": "stream",
     "text": [
      "impurity using entropy: 1.557\n"
     ]
    }
   ],
   "source": [
    "def compute_impurity(feature):\n",
    "    probs = feature.value_counts(normalize=True)\n",
    "    impurity = -1 * np.sum(np.log2(probs) * probs)\n",
    "    return(round(impurity, 3))\n",
    "\n",
    "print('impurity using entropy:', compute_impurity(fruits))"
   ]
  },
  {
   "cell_type": "markdown",
   "metadata": {},
   "source": [
    "Mari menghitung entropi dari fitur target \"play\" menggunakan fungsi baru kita."
   ]
  },
  {
   "cell_type": "code",
   "execution_count": 11,
   "metadata": {},
   "outputs": [
    {
     "data": {
      "text/plain": [
       "0.94"
      ]
     },
     "execution_count": 11,
     "metadata": {},
     "output_type": "execute_result"
    }
   ],
   "source": [
    "target_entropy = compute_impurity(df['play'])\n",
    "target_entropy"
   ]
  },
  {
   "cell_type": "markdown",
   "metadata": {},
   "source": [
    "Mari menghitung information gain berdasarkan fitur deskriptif untuk mengetahui fitur terbaik. Untuk tugas ini, kami melakukan hal berikut:\n",
    "1. Hitung ketidakmurnian fitur target (menggunakan indeks entropi).\n",
    "2. Partisi kumpulan data berdasarkan nilai unik dari fitur deskriptif.\n",
    "3. Hitung ketidakmurnian untuk setiap partisi.\n",
    "4. Hitung sisa ketidakmurnian sebagai jumlah tertimbang dari ketidakmurnian setiap partisi.\n",
    "5. Hitung perolehan informasi sebagai perbedaan antara ketidakmurnian fitur target dan ketidakmurnian yang tersisa.\n",
    "\n",
    "Kami akan mendefinisikan fungsi lain untuk mencapai ini, yang disebut comp_feature_information_gain(). Sebagai contoh, mari kita lihat level dari fitur \"wind\""
   ]
  },
  {
   "cell_type": "code",
   "execution_count": 12,
   "metadata": {},
   "outputs": [
    {
     "data": {
      "text/plain": [
       "Weak      8\n",
       "Strong    6\n",
       "Name: wind, dtype: int64"
      ]
     },
     "execution_count": 12,
     "metadata": {},
     "output_type": "execute_result"
    }
   ],
   "source": [
    "df['wind'].value_counts()"
   ]
  },
  {
   "cell_type": "markdown",
   "metadata": {},
   "source": [
    "Mari kita lihat bagaimana tampilan partisi untuk fitur ini dan apa penghitungan yang sesuai menggunakan kriteria pemisahan entropi."
   ]
  },
  {
   "cell_type": "code",
   "execution_count": 13,
   "metadata": {},
   "outputs": [
    {
     "name": "stdout",
     "output_type": "stream",
     "text": [
      "level name: Weak\n",
      "corresponding data partition:\n",
      "day\n",
      "D1      No\n",
      "D3     Yes\n",
      "D4     Yes\n",
      "D5     Yes\n",
      "D8      No\n",
      "D9     Yes\n",
      "D10    Yes\n",
      "D13    Yes\n",
      "Name: play, dtype: object\n",
      "partition target feature impurity: 0.811\n",
      "partition weight: 8/14\n",
      "====================\n",
      "level name: Strong\n",
      "corresponding data partition:\n",
      "day\n",
      "D2      No\n",
      "D6      No\n",
      "D7     Yes\n",
      "D11    Yes\n",
      "D12    Yes\n",
      "D14     No\n",
      "Name: play, dtype: object\n",
      "partition target feature impurity: 1.0\n",
      "partition weight: 6/14\n",
      "====================\n"
     ]
    }
   ],
   "source": [
    "for level in df['wind'].unique():\n",
    "    print('level name:', level)\n",
    "    df_feature_level = df[df['wind'] == level]\n",
    "    print('corresponding data partition:')\n",
    "    print(df_feature_level['play'])\n",
    "    print('partition target feature impurity:', compute_impurity(df_feature_level['play']))\n",
    "    print('partition weight:', str(len(df_feature_level)) + '/' + str(len(df)))\n",
    "    print('====================')"
   ]
  },
  {
   "cell_type": "markdown",
   "metadata": {},
   "source": [
    "Idenya di sini adalah, untuk masing-masing dari 4 partisi data di atas\n",
    "1. Kami menghitung ketidakmurniannya sehubungan dengan fitur target sebagai kumpulan data yang berdiri sendiri.\n",
    "2. Kami menimbang ketidakmurnian ini dengan jumlah pengamatan relatif di setiap partisi. Jumlah pengamatan relatif dihitung sebagai jumlah pengamatan di partisi dibagi dengan jumlah pengamatan di seluruh kumpulan data. Misalnya, berat partisi pertama adalah 3/7.\n",
    "3. Kami menjumlahkan pengotor tertimbang ini dan menyebutnya sebagai pengotor yang tersisa untuk fitur ini.\n",
    "\n",
    "Misalnya, sisa pengotor yang diukur dengan entropi untuk fitur elevasi adalah 0,918 x (3/7) + 1,0 x (2/7) = 0,679. Keuntungan informasi kemudian dihitung sebagai 1,557 - 0,679 = 0,878. Sekarang kita siap untuk mendefinisikan fungsi kita. Ada sedikit pengkodean di sini, tetapi kami dapat meyakinkan Anda bahwa mencoba mencari tahu cara kerja di sini akan bermanfaat untuk meningkatkan keterampilan pemrograman Python Anda."
   ]
  },
  {
   "cell_type": "code",
   "execution_count": 17,
   "metadata": {},
   "outputs": [],
   "source": [
    "def comp_feature_information_gain(df, target, descriptive_feature):    \n",
    "    entropy_list = list()\n",
    "    weight_list = list()\n",
    "    \n",
    "    for level in df[descriptive_feature].unique():\n",
    "        df_feature_level = df[df[descriptive_feature] == level]\n",
    "        entropy_level = compute_impurity(df_feature_level[target])\n",
    "        entropy_list.append(round(entropy_level, 3))\n",
    "        weight_level = len(df_feature_level) / len(df)\n",
    "        weight_list.append(round(weight_level, 3))\n",
    "        \n",
    "\n",
    "    target_entropy = compute_impurity(df[target])\n",
    "    feature_remaining_impurity = np.sum(np.array(entropy_list) * np.array(weight_list))\n",
    "    \n",
    "    information_gain = target_entropy - feature_remaining_impurity\n",
    "\n",
    "    return(information_gain, descriptive_feature)\n",
    "\n",
    "def information_gain(dataset, target):\n",
    "    information_gain = []\n",
    "    \n",
    "    for feature in dataset.drop(columns=target).columns:\n",
    "        information_gain.append(comp_feature_information_gain(dataset, target, feature))\n",
    "        \n",
    "    result = pd.DataFrame(\n",
    "        information_gain, \n",
    "        columns=['information gain', 'feature']\n",
    "    ).sort_values(\n",
    "        'information gain',\n",
    "        ascending=False\n",
    "    )\n",
    "    return result"
   ]
  },
  {
   "cell_type": "code",
   "execution_count": 18,
   "metadata": {},
   "outputs": [
    {
     "data": {
      "text/html": [
       "<div>\n",
       "<style scoped>\n",
       "    .dataframe tbody tr th:only-of-type {\n",
       "        vertical-align: middle;\n",
       "    }\n",
       "\n",
       "    .dataframe tbody tr th {\n",
       "        vertical-align: top;\n",
       "    }\n",
       "\n",
       "    .dataframe thead th {\n",
       "        text-align: right;\n",
       "    }\n",
       "</style>\n",
       "<table border=\"1\" class=\"dataframe\">\n",
       "  <thead>\n",
       "    <tr style=\"text-align: right;\">\n",
       "      <th></th>\n",
       "      <th>information gain</th>\n",
       "      <th>feature</th>\n",
       "    </tr>\n",
       "  </thead>\n",
       "  <tbody>\n",
       "    <tr>\n",
       "      <th>0</th>\n",
       "      <td>0.246706</td>\n",
       "      <td>outlook</td>\n",
       "    </tr>\n",
       "    <tr>\n",
       "      <th>2</th>\n",
       "      <td>0.151500</td>\n",
       "      <td>humidity</td>\n",
       "    </tr>\n",
       "    <tr>\n",
       "      <th>3</th>\n",
       "      <td>0.047919</td>\n",
       "      <td>wind</td>\n",
       "    </tr>\n",
       "    <tr>\n",
       "      <th>1</th>\n",
       "      <td>0.028232</td>\n",
       "      <td>temp</td>\n",
       "    </tr>\n",
       "  </tbody>\n",
       "</table>\n",
       "</div>"
      ],
      "text/plain": [
       "   information gain   feature\n",
       "0          0.246706   outlook\n",
       "2          0.151500  humidity\n",
       "3          0.047919      wind\n",
       "1          0.028232      temp"
      ]
     },
     "execution_count": 18,
     "metadata": {},
     "output_type": "execute_result"
    }
   ],
   "source": [
    "information_gain(df, 'play')"
   ]
  }
 ],
 "metadata": {
  "kernelspec": {
   "display_name": "Python 3",
   "language": "python",
   "name": "python3"
  },
  "language_info": {
   "codemirror_mode": {
    "name": "ipython",
    "version": 3
   },
   "file_extension": ".py",
   "mimetype": "text/x-python",
   "name": "python",
   "nbconvert_exporter": "python",
   "pygments_lexer": "ipython3",
   "version": "3.7.6"
  }
 },
 "nbformat": 4,
 "nbformat_minor": 4
}
